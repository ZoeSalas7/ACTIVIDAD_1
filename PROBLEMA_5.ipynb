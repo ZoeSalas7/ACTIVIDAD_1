{
  "nbformat": 4,
  "nbformat_minor": 0,
  "metadata": {
    "colab": {
      "name": "Untitled4.ipynb",
      "provenance": []
    },
    "kernelspec": {
      "name": "python3",
      "display_name": "Python 3"
    }
  },
  "cells": [
    {
      "cell_type": "code",
      "metadata": {
        "id": "lN8pAVoPblHH"
      },
      "source": [
        "a=int (input(\"Introduzca el número de payasos: \"))\n",
        "b=int (input(\"Introduzca el número de juegos de mesa:\"))\n",
        "\n",
        "x= a*0.150\n",
        "y= b*0.170\n",
        "\n",
        "peso= x+y\n",
        "exceso= peso-10\n",
        "\n",
        "if peso >10:\n",
        "  print(\"SINTAX ERROR\")\n",
        "  print(\"El peso en kg sobre pasa por:\", exceso)\n",
        "else:\n",
        "  print(\"El peso en kg:\",peso)\n",
        "  print(\"El Peso Es Correcto\")  "
      ],
      "execution_count": null,
      "outputs": []
    }
  ]
}