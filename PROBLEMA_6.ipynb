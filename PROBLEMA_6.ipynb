{
  "nbformat": 4,
  "nbformat_minor": 0,
  "metadata": {
    "colab": {
      "name": "Untitled4.ipynb",
      "provenance": []
    },
    "kernelspec": {
      "name": "python3",
      "display_name": "Python 3"
    }
  },
  "cells": [
    {
      "cell_type": "code",
      "metadata": {
        "id": "lN8pAVoPblHH",
        "outputId": "b29a6a11-6f8f-4acb-a1bb-5cfba2c617d9",
        "colab": {
          "base_uri": "https://localhost:8080/"
        }
      },
      "source": [
        "print(\"Descuento de impuestos\")\n",
        "x=float(input(\"Introduce tu salario neto:\"))\n",
        "\n",
        "if (x>0 and x<10000):\n",
        "  parcial = x*0.05\n",
        "  total = x-parcial\n",
        "\n",
        "  print(\"Su salario esta en un rango menor a 10 mil\")\n",
        "  print(\"Su salario total es:\",total)\n",
        "  print(\"TRUE\")\n",
        "\n",
        "elif (x>=10000 and x<= 15000): \n",
        "  parcial = x*0.10\n",
        "  total = x-parcial \n",
        " \n",
        "  print(\"Su salario esta en un rango entre 10 mil y 15 mil\")\n",
        "  print(\"Su salario total es:\",total)\n",
        "  print(\"TRUE\")\n",
        "\n",
        "elif (x>=15001 and x<= 20000): \n",
        "  parcial = x*0.15\n",
        "  total = x-parcial \n",
        " \n",
        "  print(\"Su salario esta en un rango entre 15 mil y 20 mil\")\n",
        "  print(\"Su salario total es:\",total)\n",
        "  print(\"TRUE\")\n",
        "\n",
        "  \n",
        "elif (x>20001): \n",
        "  parcial = x*0.18\n",
        "  total = x-parcial \n",
        " \n",
        "  print(\"Su salario esta en un rango mayor a 20 mil\")\n",
        "  print(\"Su salario total es:\",total)\n",
        "  print(\"TRUE\")\n",
        "\n",
        "else:\n",
        "  print(\"TRUE\")"
      ],
      "execution_count": 17,
      "outputs": [
        {
          "output_type": "stream",
          "text": [
            "Descuento de impuestos\n",
            "Introduce tu salario neto:5000\n",
            "Su salario esta en un rango menor a 10 mil\n",
            "Su salario total es: 4750.0\n",
            "TRUE\n"
          ],
          "name": "stdout"
        }
      ]
    }
  ]
}