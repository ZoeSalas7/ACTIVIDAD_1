{
  "nbformat": 4,
  "nbformat_minor": 0,
  "metadata": {
    "colab": {
      "name": "Untitled4.ipynb",
      "provenance": []
    },
    "kernelspec": {
      "name": "python3",
      "display_name": "Python 3"
    }
  },
  "cells": [
    {
      "cell_type": "code",
      "metadata": {
        "id": "lN8pAVoPblHH",
        "outputId": "91e2d1a8-cf3c-4cb4-a145-b26e69450101",
        "colab": {
          "base_uri": "https://localhost:8080/"
        }
      },
      "source": [
        " r=int (input(\"Ingrese un número:\"))\n",
        " for i in range(r+1):\n",
        "     print(\"*\"*i)"
      ],
      "execution_count": 35,
      "outputs": [
        {
          "output_type": "stream",
          "text": [
            "Ingrese un número:5\n",
            "\n",
            "*\n",
            "**\n",
            "***\n",
            "****\n",
            "*****\n"
          ],
          "name": "stdout"
        }
      ]
    }
  ]
}