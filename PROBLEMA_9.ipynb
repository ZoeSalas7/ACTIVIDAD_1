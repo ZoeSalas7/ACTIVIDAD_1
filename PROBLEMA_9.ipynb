{
  "nbformat": 4,
  "nbformat_minor": 0,
  "metadata": {
    "colab": {
      "name": "Untitled5.ipynb",
      "provenance": []
    },
    "kernelspec": {
      "name": "python3",
      "display_name": "Python 3"
    }
  },
  "cells": [
    {
      "cell_type": "code",
      "metadata": {
        "id": "AtTvH25-I1x0",
        "outputId": "e3b9008e-c0c3-4d85-a3c6-de5424df1540",
        "colab": {
          "base_uri": "https://localhost:8080/"
        }
      },
      "source": [
        "print(\"CALCULO DE FACTORIALES\")\n",
        "num= int (input(\"Ingrese el número que desee calcular su factorial:\"))\n",
        "factorial=1\n",
        "for n in range(1, (num+1)):\n",
        "  factorial=factorial * n\n",
        "  print(\"El factorial de su número es:\", factorial)\n",
        "\n"
      ],
      "execution_count": 6,
      "outputs": [
        {
          "output_type": "stream",
          "text": [
            "CALCULO DE FACTORIALES\n",
            "Ingrese el número que desee calcular su factorial:5\n",
            "El factorial de su número es: 1\n",
            "El factorial de su número es: 2\n",
            "El factorial de su número es: 6\n",
            "El factorial de su número es: 24\n",
            "El factorial de su número es: 120\n"
          ],
          "name": "stdout"
        }
      ]
    }
  ]
}