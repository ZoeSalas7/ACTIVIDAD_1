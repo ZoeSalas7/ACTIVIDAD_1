{
  "nbformat": 4,
  "nbformat_minor": 0,
  "metadata": {
    "colab": {
      "name": "Untitled1.ipynb",
      "provenance": []
    },
    "kernelspec": {
      "name": "python3",
      "display_name": "Python 3"
    }
  },
  "cells": [
    {
      "cell_type": "code",
      "metadata": {
        "id": "q0jsf8Wp6Cuo",
        "outputId": "614119e5-db78-46ef-d884-ab440c481614",
        "colab": {
          "base_uri": "https://localhost:8080/"
        }
      },
      "source": [
        "a= str (input(\"Ingrese cadena de caracteres:\"))\n",
        "b= int (input(\"Ingrese el número de veces que quiera que se repita :\"))\n",
        "for i in range(b):\n",
        "    print(\"\",a,end=\"\")\n",
        "    \n"
      ],
      "execution_count": 18,
      "outputs": [
        {
          "output_type": "stream",
          "text": [
            "Ingrese cadena de caracteres:I <3 IPN\n",
            "Ingrese el número de veces que quiera que se repita :3\n",
            " I <3 IPN I <3 IPN I <3 IPN"
          ],
          "name": "stdout"
        }
      ]
    },
    {
      "cell_type": "code",
      "metadata": {
        "id": "Z17IcLS4bwyQ"
      },
      "source": [
        ""
      ],
      "execution_count": null,
      "outputs": []
    }
  ]
}