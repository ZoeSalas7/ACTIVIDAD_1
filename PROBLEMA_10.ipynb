{
  "nbformat": 4,
  "nbformat_minor": 0,
  "metadata": {
    "colab": {
      "name": "PROBLEMA_10.ipynb",
      "provenance": []
    },
    "kernelspec": {
      "name": "python3",
      "display_name": "Python 3"
    }
  },
  "cells": [
    {
      "cell_type": "code",
      "metadata": {
        "id": "DZSo--buAIzZ",
        "outputId": "03768e11-e871-43c3-e40b-924d769a0424",
        "colab": {
          "base_uri": "https://localhost:8080/"
        }
      },
      "source": [
        "pi = 3.1416\n",
        "\n",
        "def volumen_cilindro(r, h):\n",
        "    volumen = pi * r ** 2 * h\n",
        "    print(\"El volumen  del cilindro es: \",volumen)\n",
        "    \n",
        "def area_circulo(r):\n",
        "    area = pi * r **2 \n",
        "    print(\"El area del circulo es: \",area)\n",
        "\n",
        "r=float(input(\"Ingrese el radio: \"))\n",
        "h=float(input(\"Ingrese la altura: \"))\n",
        "\n",
        "volumen_cilindro(r, h)\n",
        "area_circulo(r)"
      ],
      "execution_count": 5,
      "outputs": [
        {
          "output_type": "stream",
          "text": [
            "Ingrese el radio: 5\n",
            "Ingrese la altura: 8\n",
            "El volumen  del cilindro es:  628.3199999999999\n",
            "El area del circulo es:  78.53999999999999\n"
          ],
          "name": "stdout"
        }
      ]
    }
  ]
}