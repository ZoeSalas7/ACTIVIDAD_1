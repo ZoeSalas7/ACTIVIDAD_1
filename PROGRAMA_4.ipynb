{
  "nbformat": 4,
  "nbformat_minor": 0,
  "metadata": {
    "colab": {
      "name": "Untitled6.ipynb",
      "provenance": []
    },
    "kernelspec": {
      "name": "python3",
      "display_name": "Python 3"
    }
  },
  "cells": [
    {
      "cell_type": "code",
      "metadata": {
        "id": "CpEprio0UCoW"
      },
      "source": [
        "continua = True\n",
        "op = ''\n",
        "a = 0\n",
        "b = 0\n",
        "\n",
        "def suma(a,b):\n",
        "\treturn a + b\n",
        "\n",
        "def resta(a,b):\n",
        "\treturn a - b\n",
        "\n",
        "def multi(a,b):\n",
        "\treturn a * b\n",
        "\n",
        "def div(a,b):\n",
        "\treturn a / b\n",
        "\n",
        "\n",
        "def decide(op, a ,b):\n",
        "\tif op == 'a':\n",
        "\t\tres = suma(a,b)\n",
        "\telif op == 'b':\n",
        "\t\tres = resta(a,b)\n",
        "\telif op == 'c':\n",
        "\t\tres = multi(a,b)\n",
        "\telif op == 'd':\n",
        "\t\tres = div(a,b)\n",
        "\telse:\n",
        "\t\tprint('Adios...')\n",
        "\t\treturn False\n",
        "\n",
        "\tprint('El resultado es: {resultado}'.format(resultado = res))\n",
        "\treturn True\n",
        "\n",
        "\n",
        "while continua:\n",
        "\top = ''\n",
        "\tprint(\"\"\"\t\t\ta. suma\\n\n",
        "\t\t\tb. resta\\n\n",
        "\t\t\tc. multiplicacion\\n\n",
        "\t\t\td. division\\n\n",
        "\t\t\tIntroduzca una opción:\"\"\")\n",
        "\top = str(input(op))\n",
        "\tif op == 'a' or op == 'b' or op == 'c' or op =='d':\n",
        "\t\ta = float(input('Introduce el primer digito: '))\n",
        "\t\tb = float(input('Introduce el segundo digito: '))\n",
        "\t\tif op == 'd':\n",
        "\t\t\twhile b == 0: \n",
        "\t\t\t\tb = int(input('El segundo no puede ser 0: '))\n",
        "\tcontinua = decide(op, a, b)"
      ],
      "execution_count": null,
      "outputs": []
    }
  ]
}