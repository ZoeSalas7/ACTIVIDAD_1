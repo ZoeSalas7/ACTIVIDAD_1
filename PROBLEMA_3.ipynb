{
  "nbformat": 4,
  "nbformat_minor": 0,
  "metadata": {
    "colab": {
      "name": "Untitled2.ipynb",
      "provenance": []
    },
    "kernelspec": {
      "name": "python3",
      "display_name": "Python 3"
    }
  },
  "cells": [
    {
      "cell_type": "code",
      "metadata": {
        "id": "UXe7EPlDGOmU",
        "outputId": "f6fb2963-9aaf-45a7-a20a-56a66a357cb2",
        "colab": {
          "base_uri": "https://localhost:8080/"
        }
      },
      "source": [
        "z= int(input(\"Ingrese sus horas de trabajo:\"))\n",
        "y=150\n",
        "x=z*y*1\n",
        "v=z*y*5\n",
        "u=z*y*20\n",
        "print(\"El salario por un dia es de:$\",x)\n",
        "print(\"El salario por una semana es de:$\",v)\n",
        "print(\"El salario por un mes es de:$\",u)\n",
        "\n"
      ],
      "execution_count": 38,
      "outputs": [
        {
          "output_type": "stream",
          "text": [
            "Ingrese sus horas de trabajo:8\n",
            "El salario por un dia es de:$ 1200\n",
            "El salario por una semana es de:$ 6000\n",
            "El salario por un mes es de:$ 24000\n"
          ],
          "name": "stdout"
        }
      ]
    }
  ]
}