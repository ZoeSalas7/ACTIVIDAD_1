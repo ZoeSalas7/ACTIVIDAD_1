{
  "nbformat": 4,
  "nbformat_minor": 0,
  "metadata": {
    "colab": {
      "name": "PROGRAMA_7.ipynb",
      "provenance": []
    },
    "kernelspec": {
      "name": "python3",
      "display_name": "Python 3"
    }
  },
  "cells": [
    {
      "cell_type": "code",
      "metadata": {
        "id": "CpEprio0UCoW",
        "outputId": "8554c024-fa02-450c-9407-a7c8b39a4b20",
        "colab": {
          "base_uri": "https://localhost:8080/"
        }
      },
      "source": [
        "#MUSEO\n",
        "print(\"Este programa aplica costos y descuentos de un Museo\")\n",
        "print(\"Por favor seleccione su edad\")\n",
        "e = int(input(\"(1. Menor de 4 años) (2.Entre 4 y 16 años) (3. Adulto) \"))\n",
        "print(\"Por favor seleccione su ocupacion\")\n",
        "o = int(input(\"(1. Estudiante con credencial) (2. Docente con credencial) (3. INAPAM) \"))\n",
        "\n",
        "if e == 1 and o == 1:\n",
        "  print(\"Es menor de 4 años pasa Gratis\")\n",
        "if e == 2 and o == 1:\n",
        "  print(\"Tiene entre 4 y 16 años, es estudiante con credencial, pagará: $45\")\n",
        "if e == 3 and o == 1:\n",
        "  print(\"Es adulto, es estudiante con credencial, pagará: $90\")\n",
        "\n",
        "if e == 1 and o == 2:\n",
        "  print(\"Es menor de 4 años pasa Gratis\")\n",
        "if e == 2 and o == 2:\n",
        "  print(\"Tiene entre 4 y 16 años, es docente con credencial, pagará: $35\")\n",
        "if e == 3 and o == 2:\n",
        "  print(\"Es adulto, es docente con credencial, pagará: $70\")\n",
        "\n",
        "if e == 1 and o == 3:\n",
        "  print(\"Es menor de 4 años pasa Gratis\")\n",
        "if e == 2 and o == 3:\n",
        "  print(\"Tiene entre 4 y 16 años, cuenta con INAPAM, pagará: $25\")\n",
        "if e == 3 and o == 3:\n",
        "  print(\"Es adulto y cuenta con INAPAM, usted pagará: $50\")"
      ],
      "execution_count": 4,
      "outputs": [
        {
          "output_type": "stream",
          "text": [
            "Este programa aplica costos y descuentos de un Museo\n",
            "Por favor seleccione su edad\n",
            "(1. Menor de 4 años) (2.Entre 4 y 16 años) (3. Adulto) 3\n",
            "Por favor seleccione su ocupacion\n",
            "(1. Estudiante con credencial) (2. Docente con credencial) (3. INAPAM) 1\n",
            "Es adulto, es estudiante con credencial, pagará: $90\n"
          ],
          "name": "stdout"
        }
      ]
    }
  ]
}